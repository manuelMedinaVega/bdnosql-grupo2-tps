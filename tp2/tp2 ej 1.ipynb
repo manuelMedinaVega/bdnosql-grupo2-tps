{
 "cells": [
  {
   "cell_type": "code",
   "execution_count": 1,
   "metadata": {},
   "outputs": [
    {
     "name": "stdout",
     "output_type": "stream",
     "text": [
      "Collecting redis\n",
      "  Downloading redis-5.0.8-py3-none-any.whl (255 kB)\n",
      "                                              0.0/255.6 kB ? eta -:--:--\n",
      "     ---                                      20.5/255.6 kB ? eta -:--:--\n",
      "     ---                                      20.5/255.6 kB ? eta -:--:--\n",
      "     ---                                      20.5/255.6 kB ? eta -:--:--\n",
      "     ---                                      20.5/255.6 kB ? eta -:--:--\n",
      "     ---                                      20.5/255.6 kB ? eta -:--:--\n",
      "     ---                                      20.5/255.6 kB ? eta -:--:--\n",
      "     ---                                      20.5/255.6 kB ? eta -:--:--\n",
      "     ----------                            71.7/255.6 kB 187.3 kB/s eta 0:00:01\n",
      "     ----------                            71.7/255.6 kB 187.3 kB/s eta 0:00:01\n",
      "     --------------                       102.4/255.6 kB 210.9 kB/s eta 0:00:01\n",
      "     --------------                       102.4/255.6 kB 210.9 kB/s eta 0:00:01\n",
      "     --------------                       102.4/255.6 kB 210.9 kB/s eta 0:00:01\n",
      "     ------------------------             174.1/255.6 kB 283.5 kB/s eta 0:00:01\n",
      "     -------------------------            184.3/255.6 kB 285.8 kB/s eta 0:00:01\n",
      "     ----------------------------         204.8/255.6 kB 296.6 kB/s eta 0:00:01\n",
      "     ------------------------------------ 255.6/255.6 kB 341.3 kB/s eta 0:00:00\n",
      "Installing collected packages: redis\n",
      "Successfully installed redis-5.0.8\n",
      "Note: you may need to restart the kernel to use updated packages.\n"
     ]
    },
    {
     "name": "stderr",
     "output_type": "stream",
     "text": [
      "\n",
      "[notice] A new release of pip is available: 23.1.2 -> 24.2\n",
      "[notice] To update, run: python.exe -m pip install --upgrade pip\n"
     ]
    }
   ],
   "source": [
    "pip install redis"
   ]
  },
  {
   "cell_type": "code",
   "execution_count": 6,
   "metadata": {},
   "outputs": [
    {
     "name": "stdout",
     "output_type": "stream",
     "text": [
      "value\n"
     ]
    }
   ],
   "source": [
    "import csv\n",
    "import redis\n",
    "\n",
    "# Ubicacion del archivo CSV con el contenido provisto por la catedra\n",
    "archivo_entrada = r'C:\\Users\\Kalou\\OneDrive\\Escritorio\\BasesDatosNoSQL\\full_export.csv'\n",
    "\n",
    "nombre_archivo_resultado_ejercicio = 'tpY_ejXX.txt'\n",
    "\n",
    "\n",
    "# Función para inicializar la conexión\n",
    "def inicializar(conn):\n",
    "    r = redis.Redis(host=conn[\"redisurl\"], port=conn[\"redispuerto\"], db=0, decode_responses=True)\n",
    "    return r\n",
    "\n",
    "# Datos de conexión\n",
    "conexion = {\n",
    "    'redisurl': 'localhost',\n",
    "    'redispuerto': 6379\n",
    "}\n",
    "\n",
    "# Inicializando la conexión\n",
    "r = inicializar(conexion)\n",
    "\n",
    "# Prueba de conexión\n",
    "r.set('key', 'value')\n",
    "print(r.get('key'))  # Debería imprimir 'value'\n",
    "\n",
    "\n",
    "    "
   ]
  },
  {
   "cell_type": "code",
   "execution_count": 9,
   "metadata": {},
   "outputs": [
    {
     "name": "stdout",
     "output_type": "stream",
     "text": [
      "10, Yohan BLAKE\n",
      "\n",
      "20, Tyquendo TRACEY\n",
      "\n",
      "30, Carina HORN\n",
      "\n",
      "tiempo total en segundos\n",
      "170.30327701568604\n"
     ]
    }
   ],
   "source": [
    "import csv\n",
    "import redis\n",
    "\n",
    "# Ubicacion del archivo CSV con el contenido provisto por la catedra\n",
    "archivo_entrada = r'C:\\Users\\Kalou\\OneDrive\\Escritorio\\BasesDatosNoSQL\\full_export.csv'\n",
    "nombre_archivo_resultado_ejercicio = 'tp2_ej1.txt'\n",
    "\n",
    "# Objeto de configuracion para conectarse a la base de datos usada en este ejercicio\n",
    "conexion = {\n",
    "    'redisurl': 'localhost',\n",
    "    'redispuerto': 6379\n",
    "}\n",
    "\n",
    "\n",
    "# Funcion que dada la configuracion y ubicacion del archivo, carga la base de datos, genera el reporte, y borra la\n",
    "# base de datos\n",
    "def ejecutar(file, conn):\n",
    "    import time\n",
    "\n",
    "    start = time.time()\n",
    "    db = inicializar(conn)\n",
    "    df_filas = csv.DictReader(open(file, \"r\", encoding=\"utf-8\"))\n",
    "    count = 0\n",
    "    startbloque = time.time()\n",
    "    for fila in df_filas:\n",
    "        procesar_fila(db, fila)\n",
    "        count += 1\n",
    "        if 0 == count % 100:\n",
    "            endbloque = time.time()\n",
    "            tiempo = endbloque - startbloque\n",
    "           # print(str(count) + \" en \" + str(tiempo) + \" segundos\")\n",
    "            startbloque = time.time()\n",
    "    generar_reporte(db)\n",
    "   # finalizar(db)\n",
    "    end = time.time()\n",
    "    print(\"tiempo total en segundos\")\n",
    "    print(end - start)\n",
    "\n",
    "\n",
    "# Funcion que dado un archivo abierto y una linea, imprime por consola y guarda al final de archivo esa linea\n",
    "def grabar_linea(archivo, linea):\n",
    "    print(linea)\n",
    "    archivo.write(str(linea) + '\\n')\n",
    "\n",
    "\n",
    "def inicializar(conn):\n",
    "    r = redis.Redis(conn[\"redisurl\"], conn[\"redispuerto\"], db=0, decode_responses=True)\n",
    "    return r\n",
    "    # crear db\n",
    "\n",
    "\n",
    "# Funcion que dada una linea del archivo CSV (en forma de objeto) va a encargarse de insertar el (o los) objetos\n",
    "# necesarios\n",
    "# Debe ser implementada por el alumno\n",
    "def procesar_fila(db, fila):\n",
    "    db.set(int(fila['id_deportista']), fila['nombre_deportista'])\n",
    "    \n",
    "    pass\n",
    "    # insertar elemento en entidad para el ejercicio actual\n",
    "\n",
    "\n",
    "# Funcion que realiza el o los queries que resuelven el ejercicio, utilizando la base de datos.\n",
    "# Debe ser implementada por el alumno\n",
    "def generar_reporte(db):\n",
    "    archivo = open(nombre_archivo_resultado_ejercicio, 'w')\n",
    "        \n",
    "    ids_interes = [10, 20, 30]\n",
    "    \n",
    "    for id in ids_interes:\n",
    "        if id in db:\n",
    "            nombre = db.get(id)\n",
    "            # Crear la línea a grabar (ejemplo: \"10, Deportista 1\")\n",
    "            linea = f\"{id}, {nombre}\\n\"\n",
    "    # luego para cada linea generada como reporte:\n",
    "            grabar_linea(archivo, linea)\n",
    "    pass\n",
    "\n",
    "\n",
    "# Funcion para el borrado de estructuras generadas para este ejercicio\n",
    "#def finalizar(db):\n",
    "  #  db.flushdb()\n",
    "    # Borrar la estructura de la base de datos\n",
    "\n",
    "\n",
    "# Llamado a la ejecucion del programa\n",
    "ejecutar(archivo_entrada, conexion)"
   ]
  }
 ],
 "metadata": {
  "kernelspec": {
   "display_name": "Python 3",
   "language": "python",
   "name": "python3"
  },
  "language_info": {
   "codemirror_mode": {
    "name": "ipython",
    "version": 3
   },
   "file_extension": ".py",
   "mimetype": "text/x-python",
   "name": "python",
   "nbconvert_exporter": "python",
   "pygments_lexer": "ipython3",
   "version": "3.11.4"
  }
 },
 "nbformat": 4,
 "nbformat_minor": 2
}
